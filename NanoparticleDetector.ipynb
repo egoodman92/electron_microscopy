{
 "cells": [
  {
   "cell_type": "markdown",
   "metadata": {},
   "source": [
    "Reminder on how to install things into bash $PATH? '(echo $PATH, then PATH=$PATH:/C/User/....)'"
   ]
  },
  {
   "cell_type": "markdown",
   "metadata": {},
   "source": [
    "Install Ubuntu using Windows on Linus. Wow, really went this far to set up the right environment for the project...\n",
    "https://medium.com/@edwardbaeg9/using-homebrew-on-windows-10-with-windows-subsystem-for-linux-wsl-c7f1792f88b3\n",
    "username: egoodman\n",
    "password: T**********!\n",
    "Looks good! I always start at egoodman@LAPTOP-SK34AC1S. To get to my usual home directory, cd mnt/c.\n",
    "Had to do the extra updating of the operating system, but finally got hello world to work! This means homebrew was successfully installed!\n",
    "After this, (pip install homebrew) was no problem!"
   ]
  },
  {
   "cell_type": "markdown",
   "metadata": {},
   "source": [
    "TENSORFLOW-GPU? I want to install tensorflow GPU for faster computation! OK, I realize once again I don't have a CUDA GPU, so I'm skipping this step..."
   ]
  },
  {
   "cell_type": "markdown",
   "metadata": {},
   "source": [
    "https://towardsdatascience.com/custom-object-detection-using-tensorflow-from-scratch-e61da2e10087\n",
    "From the beginning: already have tensorflow installed\n",
    "Then, pip install pillow Cython lxml jupyter matplotlip\n",
    "1. Installed pip3: sudo apt install python3-pip\n",
    "2. pip3 install absl-py\n",
    "3. Reinstalled tensorflow (pip3 install tensorflow)\n",
    "4. Reinstall other things (pip3 install pillow Cython lxml jupyter matplotlib). This takes "
   ]
  },
  {
   "cell_type": "markdown",
   "metadata": {},
   "source": [
    "When installing a package, you can do pip3 install XXX\n",
    "If you want to see where a package is, do pip3 show XXX\n",
    "    i.e. tensorflow is @ /home/egoodman/.local/lib/python3.6/site-packages\n",
    "For python, use (which python) and got @/usr/bin/python\n",
    "Apparently almost all the stuff I download is in: C:\\Users\\egood\\AppData\\Local\\Packages\\CanonicalGroupLimited.UbuntuonWindows_79rhkp1fndgsc\\LocalState\\rootfs"
   ]
  },
  {
   "cell_type": "markdown",
   "metadata": {},
   "source": [
    "OK, skipping protobuf for now. Lets see if we can do step \n",
    "1.3 CLONE THE TENSORFLOW MODELS REPOSITORY\n",
    "1. Change to tensorflow directory (best guess is C:\\Users\\egood\\Anaconda3\\Lib\\site-packages\\tensorflow)\n",
    "2. Using MINGW64, cd into that directory, and clone the models repository: (git clone https://github.com/tensorflow/models.git)\n",
    "3. This intalled a \"models\" folder into the above diretory at 9:28 PM\n",
    "4. All files downloaded successfully!"
   ]
  },
  {
   "cell_type": "markdown",
   "metadata": {},
   "source": [
    "1.5 RECOMMENDED FOLDER STRUCTURE\n",
    "Easy, just use the GUI to manually make the folder structure suggested"
   ]
  },
  {
   "cell_type": "markdown",
   "metadata": {},
   "source": [
    "Time to choose pictures! Jenny suggested raccoons, so raccoons it is.\n",
    "Spent a lot of time, but now appears that google_image_downloads doesn't work with new google formats of pictures\n",
    "Instead, hand labeled and converted 210 raccoon pictures. Easily relabeled them with NumberPictures.py script"
   ]
  },
  {
   "cell_type": "markdown",
   "metadata": {},
   "source": [
    "Created trainval.txt, but it goes 1-200 and we actually dont those exact numbers\n",
    "Which numbers am I missing? 25, 36, 38, 42, 67, 68, 71, 76, 79, 82, 88, 94, 99, 175, 186, 188, 195... we need 17 new pics!\n",
    "Got them and labeled them!"
   ]
  },
  {
   "cell_type": "markdown",
   "metadata": {},
   "source": [
    "6. CREATE TFRecord\n",
    "Download create_tf_record.py, and save it in models/research/object_detection/dataset_tools/.\n",
    "UGH this is going to more challenging than I thought...\n",
    "https://towardsdatascience.com/how-to-train-your-own-object-detector-with-tensorflows-object-detector-api-bec72ecfe1d9\n",
    "https://pythonprogramming.net/creating-tfrecord-files-tensorflow-object-detection-api-tutorial/\n",
    "\n",
    "In the end, what I got to work:\n",
    "Cloned raccoon_dataset. Here, there are two critical functions: (python xml_to_csv.py) and (python3 generate_tfrecord.py --csv_input=data/test_labels.csv  --output_path=data/test.record --image_dir=images/test/) and (python3 generate_tfrecord.py --csv_input=data/train_labels.csv  --output_path=data/train.record --image_dir=images/train/). Both need to be ran from your model directory\n",
    "\n",
    "Forgot about this huge TRIMAPS ISSUE... \n",
    "Try following this? https://aaronjencks.blogspot.com/2019/03/using-custom-datasets-with-tensorflows.html\n",
    "    "
   ]
  },
  {
   "cell_type": "markdown",
   "metadata": {},
   "source": [
    "7. Download pre-trained model\n",
    "Easy, had to download winzip to unzip the .tar.gz file, but clear I have the important checkpoint files in the checkpoint folder"
   ]
  },
  {
   "cell_type": "markdown",
   "metadata": {},
   "source": [
    "8. Modify Config (.config) File\n",
    "Copy ssd_mobilenet_v2_coco.config into models/ directory"
   ]
  },
  {
   "cell_type": "markdown",
   "metadata": {},
   "source": [
    "9. Trained for 2479 global stels."
   ]
  },
  {
   "cell_type": "markdown",
   "metadata": {},
   "source": [
    "Looks like my detection-graph is not as good as that other dudes online. That is sad.\n",
    "However, I will train again using a GPU online, and try and see if I can watch the training as it is happening\n",
    "Use google cloud, because why not?\n",
    "Nice walkthrough using Google Cloud ML Engine for Object Detection: https://github.com/tensorflow/models/blob/master/research/object_detection/g3doc/running_on_cloud.md"
   ]
  },
  {
   "cell_type": "markdown",
   "metadata": {},
   "source": [
    "Next attempts at doing this!\n",
    "https://tensorflow-object-detection-api-tutorial.readthedocs.io/en/latest/training.html"
   ]
  }
 ],
 "metadata": {
  "kernelspec": {
   "display_name": "Python 3",
   "language": "python",
   "name": "python3"
  },
  "language_info": {
   "codemirror_mode": {
    "name": "ipython",
    "version": 3
   },
   "file_extension": ".py",
   "mimetype": "text/x-python",
   "name": "python",
   "nbconvert_exporter": "python",
   "pygments_lexer": "ipython3",
   "version": "3.7.4"
  }
 },
 "nbformat": 4,
 "nbformat_minor": 4
}
