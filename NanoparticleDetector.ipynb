{
 "cells": [
  {
   "cell_type": "markdown",
   "metadata": {},
   "source": [
    "Reminder on how to install things into bash $PATH? (echo $PATH, then PATH=$PATH:/C/User/....)"
   ]
  },
  {
   "cell_type": "markdown",
   "metadata": {},
   "source": [
    "Install Ubuntu using Windows on Linus. Wow, really went this far to set up the right environment for the project...\n",
    "https://medium.com/@edwardbaeg9/using-homebrew-on-windows-10-with-windows-subsystem-for-linux-wsl-c7f1792f88b3\n",
    "username: egoodman\n",
    "password: T**********! (I forget if ! is at the end or not...)\n",
    "Looks good! I always start at egoodman@LAPTOP-SK34AC1S. To get to my usual home directory, cd mnt/c.\n",
    "Had to do the extra updating of the operating system, but finally got hello world to work! This means homebrew was successfully installed!\n",
    "After this, (pip install homebrew) was no problem!"
   ]
  },
  {
   "cell_type": "markdown",
   "metadata": {},
   "source": [
    "https://towardsdatascience.com/custom-object-detection-using-tensorflow-from-scratch-e61da2e10087\n",
    "From the beginning: already have tensorflow installed\n",
    "Then, pip install pillow Cython lxml jupyter matplotlip\n",
    "1. Installed pip3: sudo apt install python3-pip\n",
    "2. pip3 install absl-py\n",
    "3. Reinstalled tensorflow (pip3 install tensorflow)\n",
    "4. Reinstall other things (pip3 install pillow Cython lxml jupyter matplotlib)"
   ]
  },
  {
   "cell_type": "code",
   "execution_count": 4,
   "metadata": {},
   "outputs": [],
   "source": [
    "import tensorflow as tf"
   ]
  },
  {
   "cell_type": "markdown",
   "metadata": {},
   "source": [
    "OK, skipping protobuf for now. Lets see if we can do step \n",
    "1.3 CLONE THE TENSORFLOW MODELS REPOSITORY\n",
    "1. Change to tensorflow directory (best guess is C:\\Users\\egood\\Anaconda3\\Lib\\site-packages\\tensorflow)\n",
    "2. Using MINGW64, cd into that directory, and clone the models repository: (git clone https://github.com/tensorflow/models.git)\n",
    "3. This intalled a \"models\" folder into the above diretory at 9:28 PM\n",
    "4. All files downloaded successfully!"
   ]
  },
  {
   "cell_type": "markdown",
   "metadata": {},
   "source": [
    "1.5 RECOMMENDED FOLDER STRUCTURE\n",
    "Easy, just use the GUI to manually make the folder structure suggested"
   ]
  },
  {
   "cell_type": "markdown",
   "metadata": {},
   "source": [
    "Time to choose pictures! Jenny suggested raccoons, so raccoons it is.\n",
    "Spent a lot of time, but now appears that google_image_downloads doesn't work with new google formats of pictures\n",
    "Instead, hand labeled and converted 210 raccoon pictures. Easily relabeled them with NumberPictures.py script"
   ]
  }
 ],
 "metadata": {
  "kernelspec": {
   "display_name": "Python 3",
   "language": "python",
   "name": "python3"
  },
  "language_info": {
   "codemirror_mode": {
    "name": "ipython",
    "version": 3
   },
   "file_extension": ".py",
   "mimetype": "text/x-python",
   "name": "python",
   "nbconvert_exporter": "python",
   "pygments_lexer": "ipython3",
   "version": "3.7.4"
  }
 },
 "nbformat": 4,
 "nbformat_minor": 4
}
