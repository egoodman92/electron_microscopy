{
 "cells": [
  {
   "cell_type": "raw",
   "metadata": {},
   "source": [
    "# https://towardsdatascience.com/custom-object-detection-using-tensorflow-from-scratch-e61da2e10087 (great for environment setup)\n",
    "# https://tensorflow-object-detection-api-tutorial.readthedocs.io/en/latest/training.html (great for .Record files)\n",
    "\n",
    "Initialization process for GCP VM\n",
    "Easy commands:\n",
    "which python3 -> (Where is my python3 located?)\n",
    "which python -> (Where is my python located?)\n",
    "python3 --version (Which python3 version am I running?)\n",
    "python --version (Which python version am I running?)\n",
    "lsb_release -a (Tell me about my Linux OS)\n",
    "sudo apt install python3-pip (Installs pip3)\n",
    "pip3 install tensorflow (Install TF)\n",
    "python3 -c 'import tensorflow as tf; print(tf.__version__)' (Checks which version TF you're using) \n",
    "    Somehow we're automatically using 1.14\n",
    "pip3 install pillow Cython lxml jupyter matplotlib\n",
    "sudo apt install git-all (Install git)\n",
    "/bin/bash -c \"$(curl -fsSL https://raw.githubusercontent.com/Homebrew/install/master/install.sh)\" (install homebrew)\n",
    "PATH=$PATH:/home/linuxbrew/.linuxbrew/bin (add brew to PATH)\n",
    "brew install protobuf (install protobuf)\n",
    "change into tensorflow directory\n",
    "clone tensorflow's object detection package (git clone https://github.com/tensorflow/models.git)\n",
    "protoc object_detection/protos/*.proto --python_out=.\n",
    "export PYTHONPATH=$PYTHONPATH:`pwd`:`pwd`/slim\n",
    "python object_detection/builders/model_builder_test.py\n",
    "\n",
    "\n",
    "to download data from cloud bucket\n",
    "gcloud init (follow the remaining prompts)\n",
    "gsutil ls (shows you which buckets you have access to)\n",
    "gsutil cp -r gs://practicenanoparticles/ ~/.local/lib/python3.5/site-packages/tensorflow (copies bucket to VM folder)\n"
   ]
  },
  {
   "cell_type": "raw",
   "metadata": {},
   "source": [
    "What to do if you exit out of ssh: (i.e. from bad con\n",
    "1. PATH=$PATH:/home/linuxbrew/.linuxbrew/bin\n",
    "2. brew install protobuf\n",
    "3. protoc object_detection/protos/*.proto --python_out=. #(has to be in research directory)\n",
    "5. export PYTHONPATH=$PYTHONPATH:`pwd`:`pwd`/slim\n",
    "6. python3 object_detection/builders/model_builder_test.py\n",
    "7. python3 train.py --logtostderr --train_dir=training/ --pipeline_config_path=training/ssd_inception_v2_coco.config"
   ]
  }
 ],
 "metadata": {
  "kernelspec": {
   "display_name": "Python 3",
   "language": "python",
   "name": "python3"
  },
  "language_info": {
   "codemirror_mode": {
    "name": "ipython",
    "version": 3
   },
   "file_extension": ".py",
   "mimetype": "text/x-python",
   "name": "python",
   "nbconvert_exporter": "python",
   "pygments_lexer": "ipython3",
   "version": "3.7.4"
  }
 },
 "nbformat": 4,
 "nbformat_minor": 4
}
